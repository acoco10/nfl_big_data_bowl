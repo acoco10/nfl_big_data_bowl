{
 "cells": [
  {
   "cell_type": "markdown",
   "metadata": {},
   "source": [
    "# Imports!"
   ]
  },
  {
   "cell_type": "code",
   "execution_count": 167,
   "metadata": {},
   "outputs": [],
   "source": [
    "import pandas as pd \n",
    "import matplotlib.pyplot as plt\n",
    "import src\n",
    "from src import *\n",
    "import importlib\n",
    "importlib.reload(src)\n",
    "%matplotlib inline\n"
   ]
  },
  {
   "cell_type": "code",
   "execution_count": 131,
   "metadata": {},
   "outputs": [
    {
     "name": "stderr",
     "output_type": "stream",
     "text": [
      "/Users/aidancoco/anaconda3/envs/learn-env/lib/python3.6/site-packages/IPython/core/interactiveshell.py:2714: DtypeWarning: Columns (47) have mixed types. Specify dtype option on import or set low_memory=False.\n",
      "  interactivity=interactivity, compiler=compiler, result=result)\n"
     ]
    }
   ],
   "source": [
    "df = pd.read_csv(\"../train.csv\")"
   ]
  },
  {
   "cell_type": "code",
   "execution_count": 132,
   "metadata": {},
   "outputs": [
    {
     "data": {
      "text/html": [
       "<div>\n",
       "<style scoped>\n",
       "    .dataframe tbody tr th:only-of-type {\n",
       "        vertical-align: middle;\n",
       "    }\n",
       "\n",
       "    .dataframe tbody tr th {\n",
       "        vertical-align: top;\n",
       "    }\n",
       "\n",
       "    .dataframe thead th {\n",
       "        text-align: right;\n",
       "    }\n",
       "</style>\n",
       "<table border=\"1\" class=\"dataframe\">\n",
       "  <thead>\n",
       "    <tr style=\"text-align: right;\">\n",
       "      <th></th>\n",
       "      <th>GameId</th>\n",
       "      <th>PlayId</th>\n",
       "      <th>Team</th>\n",
       "      <th>X</th>\n",
       "      <th>Y</th>\n",
       "      <th>S</th>\n",
       "      <th>A</th>\n",
       "      <th>Dis</th>\n",
       "      <th>Orientation</th>\n",
       "      <th>Dir</th>\n",
       "      <th>...</th>\n",
       "      <th>Week</th>\n",
       "      <th>Stadium</th>\n",
       "      <th>Location</th>\n",
       "      <th>StadiumType</th>\n",
       "      <th>Turf</th>\n",
       "      <th>GameWeather</th>\n",
       "      <th>Temperature</th>\n",
       "      <th>Humidity</th>\n",
       "      <th>WindSpeed</th>\n",
       "      <th>WindDirection</th>\n",
       "    </tr>\n",
       "  </thead>\n",
       "  <tbody>\n",
       "    <tr>\n",
       "      <th>0</th>\n",
       "      <td>2017090700</td>\n",
       "      <td>20170907000118</td>\n",
       "      <td>away</td>\n",
       "      <td>73.91</td>\n",
       "      <td>34.84</td>\n",
       "      <td>1.69</td>\n",
       "      <td>1.13</td>\n",
       "      <td>0.40</td>\n",
       "      <td>81.99</td>\n",
       "      <td>177.18</td>\n",
       "      <td>...</td>\n",
       "      <td>1</td>\n",
       "      <td>Gillette Stadium</td>\n",
       "      <td>Foxborough, MA</td>\n",
       "      <td>Outdoor</td>\n",
       "      <td>Field Turf</td>\n",
       "      <td>Clear and warm</td>\n",
       "      <td>63.0</td>\n",
       "      <td>77.0</td>\n",
       "      <td>8</td>\n",
       "      <td>SW</td>\n",
       "    </tr>\n",
       "    <tr>\n",
       "      <th>1</th>\n",
       "      <td>2017090700</td>\n",
       "      <td>20170907000118</td>\n",
       "      <td>away</td>\n",
       "      <td>74.67</td>\n",
       "      <td>32.64</td>\n",
       "      <td>0.42</td>\n",
       "      <td>1.35</td>\n",
       "      <td>0.01</td>\n",
       "      <td>27.61</td>\n",
       "      <td>198.70</td>\n",
       "      <td>...</td>\n",
       "      <td>1</td>\n",
       "      <td>Gillette Stadium</td>\n",
       "      <td>Foxborough, MA</td>\n",
       "      <td>Outdoor</td>\n",
       "      <td>Field Turf</td>\n",
       "      <td>Clear and warm</td>\n",
       "      <td>63.0</td>\n",
       "      <td>77.0</td>\n",
       "      <td>8</td>\n",
       "      <td>SW</td>\n",
       "    </tr>\n",
       "    <tr>\n",
       "      <th>2</th>\n",
       "      <td>2017090700</td>\n",
       "      <td>20170907000118</td>\n",
       "      <td>away</td>\n",
       "      <td>74.00</td>\n",
       "      <td>33.20</td>\n",
       "      <td>1.22</td>\n",
       "      <td>0.59</td>\n",
       "      <td>0.31</td>\n",
       "      <td>3.01</td>\n",
       "      <td>202.73</td>\n",
       "      <td>...</td>\n",
       "      <td>1</td>\n",
       "      <td>Gillette Stadium</td>\n",
       "      <td>Foxborough, MA</td>\n",
       "      <td>Outdoor</td>\n",
       "      <td>Field Turf</td>\n",
       "      <td>Clear and warm</td>\n",
       "      <td>63.0</td>\n",
       "      <td>77.0</td>\n",
       "      <td>8</td>\n",
       "      <td>SW</td>\n",
       "    </tr>\n",
       "    <tr>\n",
       "      <th>3</th>\n",
       "      <td>2017090700</td>\n",
       "      <td>20170907000118</td>\n",
       "      <td>away</td>\n",
       "      <td>71.46</td>\n",
       "      <td>27.70</td>\n",
       "      <td>0.42</td>\n",
       "      <td>0.54</td>\n",
       "      <td>0.02</td>\n",
       "      <td>359.77</td>\n",
       "      <td>105.64</td>\n",
       "      <td>...</td>\n",
       "      <td>1</td>\n",
       "      <td>Gillette Stadium</td>\n",
       "      <td>Foxborough, MA</td>\n",
       "      <td>Outdoor</td>\n",
       "      <td>Field Turf</td>\n",
       "      <td>Clear and warm</td>\n",
       "      <td>63.0</td>\n",
       "      <td>77.0</td>\n",
       "      <td>8</td>\n",
       "      <td>SW</td>\n",
       "    </tr>\n",
       "    <tr>\n",
       "      <th>4</th>\n",
       "      <td>2017090700</td>\n",
       "      <td>20170907000118</td>\n",
       "      <td>away</td>\n",
       "      <td>69.32</td>\n",
       "      <td>35.42</td>\n",
       "      <td>1.82</td>\n",
       "      <td>2.43</td>\n",
       "      <td>0.16</td>\n",
       "      <td>12.63</td>\n",
       "      <td>164.31</td>\n",
       "      <td>...</td>\n",
       "      <td>1</td>\n",
       "      <td>Gillette Stadium</td>\n",
       "      <td>Foxborough, MA</td>\n",
       "      <td>Outdoor</td>\n",
       "      <td>Field Turf</td>\n",
       "      <td>Clear and warm</td>\n",
       "      <td>63.0</td>\n",
       "      <td>77.0</td>\n",
       "      <td>8</td>\n",
       "      <td>SW</td>\n",
       "    </tr>\n",
       "  </tbody>\n",
       "</table>\n",
       "<p>5 rows × 49 columns</p>\n",
       "</div>"
      ],
      "text/plain": [
       "       GameId          PlayId  Team      X      Y     S     A   Dis  \\\n",
       "0  2017090700  20170907000118  away  73.91  34.84  1.69  1.13  0.40   \n",
       "1  2017090700  20170907000118  away  74.67  32.64  0.42  1.35  0.01   \n",
       "2  2017090700  20170907000118  away  74.00  33.20  1.22  0.59  0.31   \n",
       "3  2017090700  20170907000118  away  71.46  27.70  0.42  0.54  0.02   \n",
       "4  2017090700  20170907000118  away  69.32  35.42  1.82  2.43  0.16   \n",
       "\n",
       "   Orientation     Dir  ...  Week           Stadium        Location  \\\n",
       "0        81.99  177.18  ...     1  Gillette Stadium  Foxborough, MA   \n",
       "1        27.61  198.70  ...     1  Gillette Stadium  Foxborough, MA   \n",
       "2         3.01  202.73  ...     1  Gillette Stadium  Foxborough, MA   \n",
       "3       359.77  105.64  ...     1  Gillette Stadium  Foxborough, MA   \n",
       "4        12.63  164.31  ...     1  Gillette Stadium  Foxborough, MA   \n",
       "\n",
       "   StadiumType        Turf     GameWeather Temperature Humidity  WindSpeed  \\\n",
       "0      Outdoor  Field Turf  Clear and warm        63.0     77.0          8   \n",
       "1      Outdoor  Field Turf  Clear and warm        63.0     77.0          8   \n",
       "2      Outdoor  Field Turf  Clear and warm        63.0     77.0          8   \n",
       "3      Outdoor  Field Turf  Clear and warm        63.0     77.0          8   \n",
       "4      Outdoor  Field Turf  Clear and warm        63.0     77.0          8   \n",
       "\n",
       "   WindDirection  \n",
       "0             SW  \n",
       "1             SW  \n",
       "2             SW  \n",
       "3             SW  \n",
       "4             SW  \n",
       "\n",
       "[5 rows x 49 columns]"
      ]
     },
     "execution_count": 132,
     "metadata": {},
     "output_type": "execute_result"
    }
   ],
   "source": [
    "df.head()"
   ]
  },
  {
   "cell_type": "code",
   "execution_count": 186,
   "metadata": {},
   "outputs": [],
   "source": [
    "df.displayname = df.displayname.apply(lambda x: src.is_alpha(x))"
   ]
  },
  {
   "cell_type": "code",
   "execution_count": 180,
   "metadata": {},
   "outputs": [
    {
     "data": {
      "text/plain": [
       "0                   ericberry\n",
       "1                 allenbailey\n",
       "2               justinhouston\n",
       "3              derrickjohnson\n",
       "4                   ronparker\n",
       "5                     deeford\n",
       "6            terrancemitchell\n",
       "7               phillipgaines\n",
       "8              danielsorensen\n",
       "9                marcuspeters\n",
       "10                 chrisjones\n",
       "11              dannyamendola\n",
       "12              robgronkowski\n",
       "13               marcuscannon\n",
       "14                 natesolder\n",
       "15                   tombrady\n",
       "16                 chrishogan\n",
       "17               brandincooks\n",
       "18                 jameswhite\n",
       "19                  shaqmason\n",
       "20               davidandrews\n",
       "21                  joethuney\n",
       "22                  ericberry\n",
       "23                allenbailey\n",
       "24              justinhouston\n",
       "25             derrickjohnson\n",
       "26                  ronparker\n",
       "27                    deeford\n",
       "28           terrancemitchell\n",
       "29              phillipgaines\n",
       "                 ...         \n",
       "682124            jalenramsey\n",
       "682125          corylittleton\n",
       "682126            tanzelsmart\n",
       "682127           samsonebukam\n",
       "682128           obookoronkwo\n",
       "682129     sebastianjosephday\n",
       "682130             greggaines\n",
       "682131             taylorrapp\n",
       "682132       robertgriffiniii\n",
       "682133             jameshurst\n",
       "682134            williesnead\n",
       "682135            sethroberts\n",
       "682136          ronniestanley\n",
       "682137         bradleybozeman\n",
       "682138            haydenhurst\n",
       "682139           orlandobrown\n",
       "682140            justicehill\n",
       "682141            milesboykin\n",
       "682142          patrickmekari\n",
       "682143             ericweddle\n",
       "682144        michaelbrockers\n",
       "682145    nickellrobeycoleman\n",
       "682146            dantefowler\n",
       "682147               troyhill\n",
       "682148            jalenramsey\n",
       "682149          corylittleton\n",
       "682150            tanzelsmart\n",
       "682151           samsonebukam\n",
       "682152             greggaines\n",
       "682153             taylorrapp\n",
       "Name: displayname, Length: 682154, dtype: object"
      ]
     },
     "execution_count": 180,
     "metadata": {},
     "output_type": "execute_result"
    }
   ],
   "source": [
    "df.displayname"
   ]
  },
  {
   "cell_type": "code",
   "execution_count": 133,
   "metadata": {},
   "outputs": [],
   "source": [
    "df.columns = [col.lower() for col in df.columns]"
   ]
  },
  {
   "cell_type": "code",
   "execution_count": 135,
   "metadata": {},
   "outputs": [
    {
     "data": {
      "text/plain": [
       "4.227626019930983"
      ]
     },
     "execution_count": 135,
     "metadata": {},
     "output_type": "execute_result"
    }
   ],
   "source": [
    "df.yards.mean()"
   ]
  },
  {
   "cell_type": "code",
   "execution_count": 136,
   "metadata": {},
   "outputs": [
    {
     "data": {
      "text/plain": [
       "8.319153739478182"
      ]
     },
     "execution_count": 136,
     "metadata": {},
     "output_type": "execute_result"
    }
   ],
   "source": [
    "df.distance.mean()"
   ]
  },
  {
   "cell_type": "code",
   "execution_count": 139,
   "metadata": {},
   "outputs": [
    {
     "data": {
      "text/plain": [
       "0.1715096591092334"
      ]
     },
     "execution_count": 139,
     "metadata": {},
     "output_type": "execute_result"
    }
   ],
   "source": [
    "len(df[df.yards > df.distance])/len(df)"
   ]
  },
  {
   "cell_type": "code",
   "execution_count": 140,
   "metadata": {},
   "outputs": [
    {
     "data": {
      "text/plain": [
       "682154"
      ]
     },
     "execution_count": 140,
     "metadata": {},
     "output_type": "execute_result"
    }
   ],
   "source": [
    "len(df)"
   ]
  },
  {
   "cell_type": "code",
   "execution_count": 143,
   "metadata": {},
   "outputs": [
    {
     "data": {
      "text/plain": [
       "22.0"
      ]
     },
     "execution_count": 143,
     "metadata": {},
     "output_type": "execute_result"
    }
   ],
   "source": [
    "df.groupby([\"nflidrusher\"])['yards'].mean().max()"
   ]
  },
  {
   "cell_type": "code",
   "execution_count": 144,
   "metadata": {},
   "outputs": [],
   "source": [
    "plt.style.use(['fivethirtyeight']) #making my graphs look purd..ier\n",
    "plt.style.use(['seaborn-poster'])"
   ]
  },
  {
   "cell_type": "code",
   "execution_count": 145,
   "metadata": {},
   "outputs": [
    {
     "data": {
      "text/plain": [
       "<matplotlib.axes._subplots.AxesSubplot at 0x11e2b7ac8>"
      ]
     },
     "execution_count": 145,
     "metadata": {},
     "output_type": "execute_result"
    },
    {
     "data": {
      "image/png": "[encoded data removed]",
      "text/plain": [
       "<Figure size 921.6x633.6 with 1 Axes>"
      ]
     },
     "metadata": {},
     "output_type": "display_data"
    }
   ],
   "source": [
    "df[\"defendersinthebox\"].value_counts(normalize = True).plot(kind = \"bar\")"
   ]
  },
  {
   "cell_type": "code",
   "execution_count": 146,
   "metadata": {},
   "outputs": [
    {
     "data": {
      "text/plain": [
       "<matplotlib.axes._subplots.AxesSubplot at 0x11e395d30>"
      ]
     },
     "execution_count": 146,
     "metadata": {},
     "output_type": "execute_result"
    },
    {
     "data": {
      "image/png": "[encoded data removed]",
      "text/plain": [
       "<Figure size 921.6x633.6 with 1 Axes>"
      ]
     },
     "metadata": {},
     "output_type": "display_data"
    }
   ],
   "source": [
    "df[df.defendersinthebox>5].groupby(\"defendersinthebox\").yards.mean().plot(kind = \"bar\")"
   ]
  },
  {
   "cell_type": "code",
   "execution_count": 147,
   "metadata": {},
   "outputs": [
    {
     "data": {
      "text/plain": [
       "offenseformation\n",
       "ACE           4.000000\n",
       "EMPTY         4.419355\n",
       "I_FORM        4.090120\n",
       "JUMBO         1.812408\n",
       "PISTOL        4.625128\n",
       "SHOTGUN       4.468740\n",
       "SINGLEBACK    4.213153\n",
       "WILDCAT       4.675325\n",
       "Name: yards, dtype: float64"
      ]
     },
     "execution_count": 147,
     "metadata": {},
     "output_type": "execute_result"
    }
   ],
   "source": [
    "df.groupby(\"offenseformation\").yards.mean()"
   ]
  },
  {
   "cell_type": "code",
   "execution_count": 148,
   "metadata": {},
   "outputs": [
    {
     "data": {
      "text/plain": [
       "SINGLEBACK    299728\n",
       "SHOTGUN       206558\n",
       "I_FORM        136950\n",
       "PISTOL         21538\n",
       "JUMBO          14894\n",
       "WILDCAT         1694\n",
       "EMPTY            682\n",
       "ACE               22\n",
       "Name: offenseformation, dtype: int64"
      ]
     },
     "execution_count": 148,
     "metadata": {},
     "output_type": "execute_result"
    }
   ],
   "source": [
    "df.offenseformation.value_counts()"
   ]
  },
  {
   "cell_type": "code",
   "execution_count": 149,
   "metadata": {},
   "outputs": [
    {
     "data": {
      "text/plain": [
       "offenseformation\n",
       "ACE           6.000000\n",
       "EMPTY         6.645161\n",
       "I_FORM        7.440321\n",
       "JUMBO         9.358936\n",
       "PISTOL        6.775281\n",
       "SHOTGUN       6.316221\n",
       "SINGLEBACK    6.967777\n",
       "WILDCAT       6.636364\n",
       "Name: defendersinthebox, dtype: float64"
      ]
     },
     "execution_count": 149,
     "metadata": {},
     "output_type": "execute_result"
    }
   ],
   "source": [
    "df.groupby(\"offenseformation\").defendersinthebox.mean()"
   ]
  },
  {
   "cell_type": "code",
   "execution_count": 150,
   "metadata": {},
   "outputs": [
    {
     "ename": "SyntaxError",
     "evalue": "invalid syntax (<ipython-input-150-dc7939f19224>, line 1)",
     "output_type": "error",
     "traceback": [
      "\u001b[0;36m  File \u001b[0;32m\"<ipython-input-150-dc7939f19224>\"\u001b[0;36m, line \u001b[0;32m1\u001b[0m\n\u001b[0;31m    df.groupby([\"playdirection\"])..mean()\u001b[0m\n\u001b[0m                                  ^\u001b[0m\n\u001b[0;31mSyntaxError\u001b[0m\u001b[0;31m:\u001b[0m invalid syntax\n"
     ]
    }
   ],
   "source": [
    "df.groupby([\"playdirection\"])..mean()"
   ]
  },
  {
   "cell_type": "markdown",
   "metadata": {},
   "source": [
    "# Adding strongside/ weakside and is qb data"
   ]
  },
  {
   "cell_type": "markdown",
   "metadata": {},
   "source": [
    "This table does not include which player is handing the ball off on the play. We will assume for non wildcat formations that it is the quarter back. This data also does not label the quarter back so we will import some lists from pro football reference in order to mark who is the QB on the play. We can then use the players \"y\" data to determine whether or not they are on the strong or weakside of the play, which can be important for analyzing running plays. "
   ]
  },
  {
   "cell_type": "code",
   "execution_count": 151,
   "metadata": {},
   "outputs": [
    {
     "data": {
      "text/plain": [
       "2017    261800\n",
       "2018    247962\n",
       "2019    172392\n",
       "Name: season, dtype: int64"
      ]
     },
     "execution_count": 151,
     "metadata": {},
     "output_type": "execute_result"
    }
   ],
   "source": [
    "#I need to know which seasons I will need QB data from \n",
    "df.season.value_counts()"
   ]
  },
  {
   "cell_type": "code",
   "execution_count": 152,
   "metadata": {},
   "outputs": [],
   "source": [
    "dfqb1 = pd.read_html(\"https://www.pro-football-reference.com/years/2017/passing.htm\")[0]\n"
   ]
  },
  {
   "cell_type": "code",
   "execution_count": 153,
   "metadata": {},
   "outputs": [],
   "source": [
    "dfqb2 = pd.read_html(\"https://www.pro-football-reference.com/years/2018/passing.htm\")[0]\n"
   ]
  },
  {
   "cell_type": "code",
   "execution_count": 154,
   "metadata": {},
   "outputs": [],
   "source": [
    "dfqb3 = pd.read_html(\"https://www.pro-football-reference.com/years/2019/passing.htm\")[0]\n"
   ]
  },
  {
   "cell_type": "code",
   "execution_count": 168,
   "metadata": {},
   "outputs": [],
   "source": [
    "lsdf = [dfqb1, dfqb2, dfqb3]\n",
    "lsdf = [src.clean_qb_tables(df) for df in lsdf]\n",
    "lsdf = pd.concat(lsdf)"
   ]
  },
  {
   "cell_type": "code",
   "execution_count": 169,
   "metadata": {},
   "outputs": [],
   "source": [
    "lsdf = lsdf.drop_duplicates()"
   ]
  },
  {
   "cell_type": "code",
   "execution_count": 170,
   "metadata": {},
   "outputs": [],
   "source": [
    "lsdf = lsdf.reset_index()"
   ]
  },
  {
   "cell_type": "code",
   "execution_count": 172,
   "metadata": {},
   "outputs": [],
   "source": [
    "lsdf = lsdf.drop(\"index\", axis = 1)\n"
   ]
  },
  {
   "cell_type": "code",
   "execution_count": 199,
   "metadata": {},
   "outputs": [],
   "source": [
    "lsdf = list(lsdf.player)"
   ]
  },
  {
   "cell_type": "code",
   "execution_count": 201,
   "metadata": {},
   "outputs": [],
   "source": [
    "def is_qb (displayname):\n",
    "    return displayname in lsdf\n"
   ]
  },
  {
   "cell_type": "code",
   "execution_count": 202,
   "metadata": {},
   "outputs": [],
   "source": [
    "df['is_qb'] = df.displayname.apply(lambda x: is_qb(x))"
   ]
  },
  {
   "cell_type": "code",
   "execution_count": 203,
   "metadata": {},
   "outputs": [
    {
     "data": {
      "text/plain": [
       "False    654628\n",
       "True      27526\n",
       "Name: is_qb, dtype: int64"
      ]
     },
     "execution_count": 203,
     "metadata": {},
     "output_type": "execute_result"
    }
   ],
   "source": [
    "df.is_qb.value_counts()"
   ]
  },
  {
   "cell_type": "code",
   "execution_count": 216,
   "metadata": {},
   "outputs": [
    {
     "data": {
      "text/plain": [
       "89.95     21\n",
       "89.90     17\n",
       "29.82     16\n",
       "89.89     15\n",
       "30.01     15\n",
       "30.00     14\n",
       "89.63     14\n",
       "90.01     14\n",
       "29.28     13\n",
       "89.88     13\n",
       "89.84     13\n",
       "90.12     12\n",
       "89.67     12\n",
       "29.66     12\n",
       "90.22     12\n",
       "89.23     12\n",
       "90.00     12\n",
       "89.72     12\n",
       "29.98     12\n",
       "29.88     12\n",
       "30.02     12\n",
       "89.73     12\n",
       "90.17     12\n",
       "90.81     11\n",
       "29.84     11\n",
       "90.05     11\n",
       "29.52     11\n",
       "29.96     11\n",
       "90.18     11\n",
       "29.63     11\n",
       "          ..\n",
       "17.48      1\n",
       "101.10     1\n",
       "9.20       1\n",
       "93.86      1\n",
       "102.83     1\n",
       "96.92      1\n",
       "14.11      1\n",
       "10.14      1\n",
       "15.57      1\n",
       "38.15      1\n",
       "63.91      1\n",
       "73.68      1\n",
       "16.68      1\n",
       "51.82      1\n",
       "96.67      1\n",
       "102.46     1\n",
       "96.42      1\n",
       "7.85       1\n",
       "107.82     1\n",
       "22.09      1\n",
       "8.45       1\n",
       "103.02     1\n",
       "98.28      1\n",
       "58.42      1\n",
       "13.34      1\n",
       "6.47       1\n",
       "109.37     1\n",
       "61.31      1\n",
       "71.29      1\n",
       "60.01      1\n",
       "Name: x, Length: 9194, dtype: int64"
      ]
     },
     "execution_count": 216,
     "metadata": {},
     "output_type": "execute_result"
    }
   ],
   "source": [
    "df[df.is_qb == True]['y'].value_counts()"
   ]
  },
  {
   "cell_type": "code",
   "execution_count": 207,
   "metadata": {},
   "outputs": [
    {
     "data": {
      "text/plain": [
       "0         34.84\n",
       "1         32.64\n",
       "2         33.20\n",
       "3         27.70\n",
       "4         35.42\n",
       "5         24.00\n",
       "6         16.64\n",
       "7         18.73\n",
       "8         26.90\n",
       "9         38.83\n",
       "10        28.90\n",
       "11        17.56\n",
       "12        33.21\n",
       "13        32.41\n",
       "14        25.12\n",
       "15        29.49\n",
       "16        36.91\n",
       "17        19.19\n",
       "18        30.53\n",
       "19        31.88\n",
       "20        29.12\n",
       "21        28.47\n",
       "22        33.88\n",
       "23        30.09\n",
       "24        31.50\n",
       "25        27.19\n",
       "26        26.51\n",
       "27        24.27\n",
       "28         9.43\n",
       "29        16.36\n",
       "          ...  \n",
       "682124    40.22\n",
       "682125    26.31\n",
       "682126    28.03\n",
       "682127    33.08\n",
       "682128    24.65\n",
       "682129    25.93\n",
       "682130    29.61\n",
       "682131    24.82\n",
       "682132    26.56\n",
       "682133    27.04\n",
       "682134    36.77\n",
       "682135     9.50\n",
       "682136    24.98\n",
       "682137    27.73\n",
       "682138    29.39\n",
       "682139    29.78\n",
       "682140    27.24\n",
       "682141    43.93\n",
       "682142    25.51\n",
       "682143    30.07\n",
       "682144    29.60\n",
       "682145    37.21\n",
       "682146    23.22\n",
       "682147     9.99\n",
       "682148    43.36\n",
       "682149    31.33\n",
       "682150    25.09\n",
       "682151    31.95\n",
       "682152    26.74\n",
       "682153    24.67\n",
       "Name: y, Length: 682154, dtype: float64"
      ]
     },
     "execution_count": 207,
     "metadata": {},
     "output_type": "execute_result"
    }
   ],
   "source": [
    "df.y"
   ]
  },
  {
   "cell_type": "code",
   "execution_count": null,
   "metadata": {},
   "outputs": [],
   "source": []
  }
 ],
 "metadata": {
  "kernelspec": {
   "display_name": "Python 3",
   "language": "python",
   "name": "python3"
  },
  "language_info": {
   "codemirror_mode": {
    "name": "ipython",
    "version": 3
   },
   "file_extension": ".py",
   "mimetype": "text/x-python",
   "name": "python",
   "nbconvert_exporter": "python",
   "pygments_lexer": "ipython3",
   "version": "3.6.9"
  },
  "toc": {
   "base_numbering": 1,
   "nav_menu": {},
   "number_sections": true,
   "sideBar": true,
   "skip_h1_title": false,
   "title_cell": "Table of Contents",
   "title_sidebar": "Contents",
   "toc_cell": false,
   "toc_position": {},
   "toc_section_display": true,
   "toc_window_display": true
  }
 },
 "nbformat": 4,
 "nbformat_minor": 4
}
